{
 "cells": [
  {
   "cell_type": "code",
   "execution_count": 2,
   "metadata": {},
   "outputs": [],
   "source": [
    "import numpy as np"
   ]
  },
  {
   "cell_type": "code",
   "execution_count": 12,
   "metadata": {},
   "outputs": [
    {
     "name": "stdout",
     "output_type": "stream",
     "text": [
      "[ 0.1212  0.104   0.5661  0.762 ]\n",
      "[ 0.842     0.5422    0.932     0.847361]\n",
      "[ 0.3672   0.34551  0.2344   0.1538 ]\n"
     ]
    }
   ],
   "source": [
    "x,y,z = np.loadtxt(\"Dados/dados.txt\", skiprows= 1, unpack= True)#skiprows(pular primeira linha), unpack(colocar dados na sequencia das variaveis)\n",
    "print(x)\n",
    "print(y)\n",
    "print(z)"
   ]
  },
  {
   "cell_type": "code",
   "execution_count": 15,
   "metadata": {},
   "outputs": [
    {
     "name": "stdout",
     "output_type": "stream",
     "text": [
      "[[ 0.1212    0.842     0.3672  ]\n",
      " [ 0.        0.5422    0.34551 ]\n",
      " [ 0.5661    0.932     0.      ]\n",
      " [ 0.762     0.847361  0.1538  ]]\n"
     ]
    }
   ],
   "source": [
    "#faltando dados\n",
    "array = np.genfromtxt(\"Dados/dados2.txt\", skip_header=1, filling_values= 0)# filling_values(subistituir valores vasios)\n",
    "print(array)\n"
   ]
  },
  {
   "cell_type": "code",
   "execution_count": null,
   "metadata": {},
   "outputs": [],
   "source": []
  }
 ],
 "metadata": {
  "kernelspec": {
   "display_name": "Python 3",
   "language": "python",
   "name": "python3"
  },
  "language_info": {
   "codemirror_mode": {
    "name": "ipython",
    "version": 3
   },
   "file_extension": ".py",
   "mimetype": "text/x-python",
   "name": "python",
   "nbconvert_exporter": "python",
   "pygments_lexer": "ipython3",
   "version": "3.6.3"
  }
 },
 "nbformat": 4,
 "nbformat_minor": 2
}
