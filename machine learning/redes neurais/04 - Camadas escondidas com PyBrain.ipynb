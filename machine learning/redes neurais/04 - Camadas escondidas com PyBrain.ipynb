{
 "cells": [
  {
   "cell_type": "code",
   "execution_count": 36,
   "metadata": {},
   "outputs": [],
   "source": [
    "#XOR de 3 dimenções \n",
    "from pybrain.datasets import SupervisedDataSet\n",
    "from pybrain.tools.shortcuts import buildNetwork\n",
    "from pybrain.supervised import BackpropTrainer"
   ]
  },
  {
   "cell_type": "code",
   "execution_count": 37,
   "metadata": {},
   "outputs": [],
   "source": [
    "dataset = SupervisedDataSet(3,1)\n",
    "\n",
    "dataset.addSample([0,0,0], [0])\n",
    "dataset.addSample([0,0,1], [1])\n",
    "dataset.addSample([0,1,0], [1])\n",
    "dataset.addSample([0,1,1], [0])\n",
    "dataset.addSample([1,0,0], [1])\n",
    "dataset.addSample([1,0,1], [0])\n",
    "dataset.addSample([1,1,0], [0])\n",
    "dataset.addSample([1,1,1], [1])"
   ]
  },
  {
   "cell_type": "code",
   "execution_count": 38,
   "metadata": {},
   "outputs": [],
   "source": [
    "#Apenas coocando o numero de neuronios em sequencia já se criam novas camadas\n",
    "network = buildNetwork(dataset.indim, 4, 4, dataset.outdim, bias=True)\n",
    "trainer = BackpropTrainer(network, dataset, learningrate=0.01, momentum=0.9)\n",
    "\n",
    "for i in range(1000):\n",
    "    trainer.train()"
   ]
  },
  {
   "cell_type": "code",
   "execution_count": 39,
   "metadata": {},
   "outputs": [],
   "source": [
    "test = SupervisedDataSet(3,1)\n",
    "\n",
    "test.addSample([0,0,0], [0])\n",
    "test.addSample([0,0,1], [1])\n",
    "test.addSample([0,1,0], [1])\n",
    "test.addSample([0,1,1], [0])\n",
    "test.addSample([1,0,0], [1])\n",
    "test.addSample([1,0,1], [0])\n",
    "test.addSample([1,1,0], [0])\n",
    "test.addSample([1,1,1], [1])"
   ]
  },
  {
   "cell_type": "code",
   "execution_count": 40,
   "metadata": {},
   "outputs": [
    {
     "name": "stdout",
     "output_type": "stream",
     "text": [
      "\n",
      "Testing on data:\n",
      "('out:    ', '[0.503 ]')\n",
      "('correct:', '[0     ]')\n",
      "error:  0.12648008\n",
      "('out:    ', '[0.544 ]')\n",
      "('correct:', '[1     ]')\n",
      "error:  0.10401257\n",
      "('out:    ', '[0.571 ]')\n",
      "('correct:', '[1     ]')\n",
      "error:  0.09192727\n",
      "('out:    ', '[0.476 ]')\n",
      "('correct:', '[0     ]')\n",
      "error:  0.11321451\n",
      "('out:    ', '[0.59  ]')\n",
      "('correct:', '[1     ]')\n",
      "error:  0.08406258\n",
      "('out:    ', '[0.467 ]')\n",
      "('correct:', '[0     ]')\n",
      "error:  0.10884718\n",
      "('out:    ', '[0.553 ]')\n",
      "('correct:', '[0     ]')\n",
      "error:  0.15299524\n",
      "('out:    ', '[0.468 ]')\n",
      "('correct:', '[1     ]')\n",
      "error:  0.14151847\n",
      "('All errors:', [0.12648007719382048, 0.10401257444826052, 0.09192726782362823, 0.11321450846338107, 0.0840625839880812, 0.10884718265055614, 0.15299524004318937, 0.1415184677820602])\n",
      "('Average error:', 0.11538223779912216)\n",
      "('Max error:', 0.15299524004318937, 'Median error:', 0.11321450846338107)\n"
     ]
    },
    {
     "data": {
      "text/plain": [
       "0.11538223779912216"
      ]
     },
     "execution_count": 40,
     "metadata": {},
     "output_type": "execute_result"
    }
   ],
   "source": [
    "trainer.testOnData(test, verbose=True)"
   ]
  },
  {
   "cell_type": "code",
   "execution_count": 42,
   "metadata": {},
   "outputs": [
    {
     "name": "stdout",
     "output_type": "stream",
     "text": [
      "\n",
      "Testing on data:\n",
      "('out:    ', '[0     ]')\n",
      "('correct:', '[0     ]')\n",
      "error:  0.00000000\n",
      "('out:    ', '[1     ]')\n",
      "('correct:', '[1     ]')\n",
      "error:  0.00000000\n",
      "('out:    ', '[1     ]')\n",
      "('correct:', '[1     ]')\n",
      "error:  0.00000000\n",
      "('out:    ', '[-0    ]')\n",
      "('correct:', '[0     ]')\n",
      "error:  0.00000000\n",
      "('out:    ', '[1     ]')\n",
      "('correct:', '[1     ]')\n",
      "error:  0.00000000\n",
      "('out:    ', '[0     ]')\n",
      "('correct:', '[0     ]')\n",
      "error:  0.00000000\n",
      "('out:    ', '[-0    ]')\n",
      "('correct:', '[0     ]')\n",
      "error:  0.00000000\n",
      "('out:    ', '[1     ]')\n",
      "('correct:', '[1     ]')\n",
      "error:  0.00000000\n",
      "('All errors:', [4.5913923848087494e-18, 7.29829898261504e-18, 8.788033404865219e-18, 1.4388492239735619e-18, 2.1887067993950625e-18, 1.0850229943477871e-17, 3.311646191235555e-18, 3.2848602051948883e-18])\n",
      "('Average error:', 5.2190021419457434e-18)\n",
      "('Max error:', 1.0850229943477871e-17, 'Median error:', 4.5913923848087494e-18)\n"
     ]
    },
    {
     "data": {
      "text/plain": [
       "5.2190021419457434e-18"
      ]
     },
     "execution_count": 42,
     "metadata": {},
     "output_type": "execute_result"
    }
   ],
   "source": [
    "network = buildNetwork(dataset.indim, 6, 6, dataset.outdim, bias=True)\n",
    "trainer = BackpropTrainer(network, dataset, learningrate=0.01, momentum=0.9)\n",
    "\n",
    "for i in range(1500):\n",
    "    trainer.train()\n",
    "test = SupervisedDataSet(3,1)\n",
    "\n",
    "test.addSample([0,0,0], [0])\n",
    "test.addSample([0,0,1], [1])\n",
    "test.addSample([0,1,0], [1])\n",
    "test.addSample([0,1,1], [0])\n",
    "test.addSample([1,0,0], [1])\n",
    "test.addSample([1,0,1], [0])\n",
    "test.addSample([1,1,0], [0])\n",
    "test.addSample([1,1,1], [1])\n",
    "    \n",
    "trainer.testOnData(test, verbose=True)"
   ]
  },
  {
   "cell_type": "code",
   "execution_count": 43,
   "metadata": {},
   "outputs": [
    {
     "name": "stdout",
     "output_type": "stream",
     "text": [
      "\n",
      "Testing on data:\n",
      "('out:    ', '[0     ]')\n",
      "('correct:', '[0     ]')\n",
      "error:  0.00000000\n",
      "('out:    ', '[1     ]')\n",
      "('correct:', '[1     ]')\n",
      "error:  0.00000000\n",
      "('out:    ', '[1     ]')\n",
      "('correct:', '[1     ]')\n",
      "error:  0.00000001\n",
      "('out:    ', '[-0    ]')\n",
      "('correct:', '[0     ]')\n",
      "error:  0.00000001\n",
      "('out:    ', '[1     ]')\n",
      "('correct:', '[1     ]')\n",
      "error:  0.00000003\n",
      "('out:    ', '[0     ]')\n",
      "('correct:', '[0     ]')\n",
      "error:  0.00000003\n",
      "('out:    ', '[0     ]')\n",
      "('correct:', '[0     ]')\n",
      "error:  0.00000000\n",
      "('out:    ', '[1     ]')\n",
      "('correct:', '[1     ]')\n",
      "error:  0.00000000\n",
      "('All errors:', [2.2140032796202068e-09, 4.383235904781336e-09, 1.0355999026118817e-08, 1.4897799357885392e-08, 2.645524944908519e-08, 2.662084347755174e-08, 1.215486376868542e-09, 1.390320699789321e-10])\n",
      "('Average error:', 1.0785206117736271e-08)\n",
      "('Max error:', 2.662084347755174e-08, 'Median error:', 1.0355999026118817e-08)\n"
     ]
    },
    {
     "data": {
      "text/plain": [
       "1.0785206117736271e-08"
      ]
     },
     "execution_count": 43,
     "metadata": {},
     "output_type": "execute_result"
    }
   ],
   "source": [
    "network = buildNetwork(dataset.indim, 4, dataset.outdim, bias=True)\n",
    "trainer = BackpropTrainer(network, dataset, learningrate=0.01, momentum=0.9)\n",
    "\n",
    "for i in range(1500):\n",
    "    trainer.train()\n",
    "test = SupervisedDataSet(3,1)\n",
    "\n",
    "test.addSample([0,0,0], [0])\n",
    "test.addSample([0,0,1], [1])\n",
    "test.addSample([0,1,0], [1])\n",
    "test.addSample([0,1,1], [0])\n",
    "test.addSample([1,0,0], [1])\n",
    "test.addSample([1,0,1], [0])\n",
    "test.addSample([1,1,0], [0])\n",
    "test.addSample([1,1,1], [1])\n",
    "    \n",
    "trainer.testOnData(test, verbose=True)"
   ]
  },
  {
   "cell_type": "code",
   "execution_count": null,
   "metadata": {},
   "outputs": [],
   "source": []
  }
 ],
 "metadata": {
  "kernelspec": {
   "display_name": "Python 3",
   "language": "python",
   "name": "python3"
  },
  "language_info": {
   "codemirror_mode": {
    "name": "ipython",
    "version": 3
   },
   "file_extension": ".py",
   "mimetype": "text/x-python",
   "name": "python",
   "nbconvert_exporter": "python",
   "pygments_lexer": "ipython3",
   "version": "3.6.3"
  }
 },
 "nbformat": 4,
 "nbformat_minor": 2
}
