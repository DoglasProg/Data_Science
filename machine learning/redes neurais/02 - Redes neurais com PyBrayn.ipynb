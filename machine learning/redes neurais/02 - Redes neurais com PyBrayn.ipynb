{
 "cells": [
  {
   "cell_type": "code",
   "execution_count": 22,
   "metadata": {},
   "outputs": [],
   "source": [
    "from pybrain.datasets import SupervisedDataSet\n",
    "from pybrain.tools.shortcuts import buildNetwork\n",
    "from pybrain.supervised import BackpropTrainer"
   ]
  },
  {
   "cell_type": "code",
   "execution_count": 23,
   "metadata": {},
   "outputs": [],
   "source": [
    "dataset = SupervisedDataSet(2,1)\n",
    "dataset.addSample([1,1], [0])\n",
    "dataset.addSample([1,0], [1])\n",
    "dataset.addSample([0,1], [1])\n",
    "dataset.addSample([0,0], [0])"
   ]
  },
  {
   "cell_type": "code",
   "execution_count": 24,
   "metadata": {},
   "outputs": [],
   "source": [
    "network = buildNetwork(dataset.indim, 4, dataset.outdim, bias=True)\n",
    "trainer = BackpropTrainer(network, dataset, learningrate=0.01, momentum=0.99)\n",
    "\n",
    "#vai testar 1000 épocas\n",
    "#a variação da época pode alterar a precisão \n",
    "trainer.trainEpochs(1000)\n",
    "\n",
    "#pose ser substituido por\n",
    "#trainer.trainUntilConvergence \n",
    "#OU\n",
    "#for epoch in range(1000): # treina por 1000 épocas\n",
    "#      trainer.train()"
   ]
  },
  {
   "cell_type": "code",
   "execution_count": 25,
   "metadata": {},
   "outputs": [
    {
     "name": "stdout",
     "output_type": "stream",
     "text": [
      "\n",
      "Testing on data:\n",
      "('out:    ', '[0     ]')\n",
      "('correct:', '[0     ]')\n",
      "error:  0.00000000\n",
      "('out:    ', '[1     ]')\n",
      "('correct:', '[1     ]')\n",
      "error:  0.00000000\n",
      "('out:    ', '[1     ]')\n",
      "('correct:', '[1     ]')\n",
      "error:  0.00000000\n",
      "('out:    ', '[0     ]')\n",
      "('correct:', '[0     ]')\n",
      "error:  0.00000000\n",
      "('All errors:', [1.6612918045681236e-15, 1.4656872063642302e-17, 1.2269955591375333e-15, 7.738892374564132e-15])\n",
      "('Average error:', 2.6604591525833577e-15)\n",
      "('Max error:', 7.738892374564132e-15, 'Median error:', 1.6612918045681236e-15)\n"
     ]
    },
    {
     "data": {
      "text/plain": [
       "2.6604591525833577e-15"
      ]
     },
     "execution_count": 25,
     "metadata": {},
     "output_type": "execute_result"
    }
   ],
   "source": [
    "test_data = SupervisedDataSet(2, 1)\n",
    "test_data.addSample([1,1], [0])\n",
    "test_data.addSample([1,0], [1])\n",
    "test_data.addSample([0,1], [1])\n",
    "test_data.addSample([0,0], [0])\n",
    "trainer.testOnData(test_data, verbose=True)"
   ]
  },
  {
   "cell_type": "code",
   "execution_count": null,
   "metadata": {},
   "outputs": [],
   "source": []
  }
 ],
 "metadata": {
  "kernelspec": {
   "display_name": "Python 3",
   "language": "python",
   "name": "python3"
  },
  "language_info": {
   "codemirror_mode": {
    "name": "ipython",
    "version": 3
   },
   "file_extension": ".py",
   "mimetype": "text/x-python",
   "name": "python",
   "nbconvert_exporter": "python",
   "pygments_lexer": "ipython3",
   "version": "3.6.3"
  }
 },
 "nbformat": 4,
 "nbformat_minor": 2
}
