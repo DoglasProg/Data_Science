{
 "cells": [
  {
   "cell_type": "code",
   "execution_count": 1,
   "metadata": {},
   "outputs": [],
   "source": [
    "#XOR de 3 dimenções \n",
    "from pybrain.datasets import SupervisedDataSet\n",
    "from pybrain.tools.shortcuts import buildNetwork\n",
    "from pybrain.supervised import BackpropTrainer"
   ]
  },
  {
   "cell_type": "code",
   "execution_count": 7,
   "metadata": {},
   "outputs": [],
   "source": [
    "dataset = SupervisedDataSet(3,1)\n",
    "\n",
    "dataset.addSample([0,0,0], [0])\n",
    "dataset.addSample([0,0,1], [1])\n",
    "dataset.addSample([0,1,0], [1])\n",
    "dataset.addSample([0,1,1], [0])\n",
    "dataset.addSample([1,0,0], [1])\n",
    "dataset.addSample([1,0,1], [0])\n",
    "dataset.addSample([1,1,0], [0])\n",
    "dataset.addSample([1,1,1], [1])"
   ]
  },
  {
   "cell_type": "code",
   "execution_count": 8,
   "metadata": {},
   "outputs": [],
   "source": [
    "network = buildNetwork(dataset.indim, 2, dataset.outdim, bias=True)\n",
    "trainer = BackpropTrainer(network, dataset, learningrate=0.01, momentum=0.9)\n",
    "\n",
    "for i in range(1000):\n",
    "    trainer.train()"
   ]
  },
  {
   "cell_type": "code",
   "execution_count": 9,
   "metadata": {},
   "outputs": [],
   "source": [
    "teste = SupervisedDataSet(3,1)\n",
    "\n",
    "teste.addSample([0,0,0], [0])\n",
    "teste.addSample([0,0,1], [1])\n",
    "teste.addSample([0,1,0], [1])\n",
    "teste.addSample([0,1,1], [0])\n",
    "teste.addSample([1,0,0], [1])\n",
    "teste.addSample([1,0,1], [0])\n",
    "teste.addSample([1,1,0], [0])\n",
    "teste.addSample([1,1,1], [1])"
   ]
  },
  {
   "cell_type": "raw",
   "metadata": {},
   "source": []
  },
  {
   "cell_type": "raw",
   "metadata": {},
   "source": []
  }
 ],
 "metadata": {
  "kernelspec": {
   "display_name": "Python 3",
   "language": "python",
   "name": "python3"
  },
  "language_info": {
   "codemirror_mode": {
    "name": "ipython",
    "version": 3
   },
   "file_extension": ".py",
   "mimetype": "text/x-python",
   "name": "python",
   "nbconvert_exporter": "python",
   "pygments_lexer": "ipython3",
   "version": "3.6.3"
  }
 },
 "nbformat": 4,
 "nbformat_minor": 2
}
